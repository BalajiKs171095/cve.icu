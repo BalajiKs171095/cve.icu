{
 "cells": [
  {
   "cell_type": "markdown",
   "id": "serious-pressing",
   "metadata": {},
   "source": [
    "# CVE.ICU - 2022\n",
    "---"
   ]
  },
  {
   "cell_type": "markdown",
   "id": "persistent-circus",
   "metadata": {},
   "source": [
    "This information from this website is from a [jupyter notebook](https://jupyter.org/) that automatically pulls all [JSON Data](https://nvd.nist.gov/vuln/data-feeds#JSON_FEED) from the NVD and perform some fundamental data analysis and graphing.  If you have any questions or suggestions, please join the [discussion here](https://github.com/jgamblin/cve.icu/discussions) and check out the [source code](https://github.com/jgamblin/cve.icu/).  Questions? Reach out to [@jgamblin](https://www.twitter.com/jgamblin).\n",
    "\n",
    "**Yearly Data**\n",
    "-  [All](https://cve.icu/)\n",
    "-  [2022](2022.html)\n",
    "-  [2021](2021.html)\n",
    "-  [2020](2020.html)\n",
    "-  [2019](2019.html)\n",
    "\n",
    "**Other Data**\n",
    "-  [CVE Growth Predictions](prophet.html)\n",
    "-  [CVE Calendar All Years](calendar.html)"
   ]
  },
  {
   "cell_type": "markdown",
   "id": "36813e36",
   "metadata": {},
   "source": [
    "## CVE Data"
   ]
  },
  {
   "cell_type": "code",
   "execution_count": 1,
   "id": "diverse-prison",
   "metadata": {
    "execution": {
     "iopub.execute_input": "2022-01-02T12:24:21.285855Z",
     "iopub.status.busy": "2022-01-02T12:24:21.285106Z",
     "iopub.status.idle": "2022-01-02T12:24:22.305807Z",
     "shell.execute_reply": "2022-01-02T12:24:22.304609Z"
    },
    "tags": []
   },
   "outputs": [],
   "source": [
    "\n",
    "from IPython.core.magic import register_cell_magic\n",
    "from IPython.display import Markdown\n",
    "import calplot\n",
    "import datetime\n",
    "from datetime import date\n",
    "import glob\n",
    "import json\n",
    "import logging\n",
    "import matplotlib.pyplot as plt\n",
    "import numpy as np\n",
    "import pandas as pd\n",
    "import warnings\n",
    "\n",
    "@register_cell_magic\n",
    "def markdown(line, cell):\n",
    "    return Markdown(cell.format(**globals()))\n",
    "\n",
    "\n",
    "logging.getLogger('matplotlib.font_manager').disabled = True\n",
    "warnings.filterwarnings(\"ignore\")\n",
    "pd.set_option('display.width', 500)\n",
    "pd.set_option('display.max_rows', 50)\n",
    "pd.set_option('display.max_columns', 10)"
   ]
  },
  {
   "cell_type": "code",
   "execution_count": 2,
   "id": "organized-ambassador",
   "metadata": {
    "execution": {
     "iopub.execute_input": "2022-01-02T12:24:22.324062Z",
     "iopub.status.busy": "2022-01-02T12:24:22.308357Z",
     "iopub.status.idle": "2022-01-02T12:25:01.145338Z",
     "shell.execute_reply": "2022-01-02T12:25:01.144813Z"
    },
    "tags": []
   },
   "outputs": [],
   "source": [
    "row_accumulator = []\n",
    "for filename in glob.glob('nvdcve-1.1-*.json'):\n",
    "    with open(filename, 'r', encoding='utf-8') as f:\n",
    "        nvd_data = json.load(f)\n",
    "        for entry in nvd_data['CVE_Items']:\n",
    "            cve = entry['cve']['CVE_data_meta']['ID']\n",
    "            try:\n",
    "                assigner = entry['cve']['CVE_data_meta']['ASSIGNER']\n",
    "            except KeyError:\n",
    "                published_date = 'Missing_Data'\n",
    "            try:\n",
    "                published_date = entry['publishedDate']\n",
    "            except KeyError:\n",
    "                published_date = 'Missing_Data'\n",
    "            try:\n",
    "                attack_vector = entry['impact']['baseMetricV3']['cvssV3']['attackVector']\n",
    "            except KeyError:\n",
    "                attack_vector = 'Missing_Data'\n",
    "            try:\n",
    "                attack_complexity = entry['impact']['baseMetricV3']['cvssV3']['attackComplexity']\n",
    "            except KeyError:\n",
    "                attack_complexity = 'Missing_Data'\n",
    "            try:\n",
    "                privileges_required = entry['impact']['baseMetricV3']['cvssV3']['privilegesRequired']\n",
    "            except KeyError:\n",
    "                privileges_required = 'Missing_Data'\n",
    "            try:\n",
    "                user_interaction = entry['impact']['baseMetricV3']['cvssV3']['userInteraction']\n",
    "            except KeyError:\n",
    "                user_interaction = 'Missing_Data'\n",
    "            try:\n",
    "                scope = entry['impact']['baseMetricV3']['cvssV3']['scope']\n",
    "            except KeyError:\n",
    "                scope = 'Missing_Data'\n",
    "            try:\n",
    "                confidentiality_impact = entry['impact']['baseMetricV3']['cvssV3']['confidentialityImpact']\n",
    "            except KeyError:\n",
    "                confidentiality_impact = 'Missing_Data'\n",
    "            try:\n",
    "                integrity_impact = entry['impact']['baseMetricV3']['cvssV3']['integrityImpact']\n",
    "            except KeyError:\n",
    "                integrity_impact = 'Missing_Data'\n",
    "            try:\n",
    "                availability_impact = entry['impact']['baseMetricV3']['cvssV3']['availabilityImpact']\n",
    "            except KeyError:\n",
    "                availability_impact = 'Missing_Data'\n",
    "            try:\n",
    "                base_score = entry['impact']['baseMetricV3']['cvssV3']['baseScore']\n",
    "            except KeyError:\n",
    "                base_score = '0.0'\n",
    "            try:\n",
    "                base_severity = entry['impact']['baseMetricV3']['cvssV3']['baseSeverity']\n",
    "            except KeyError:\n",
    "                base_severity = 'Missing_Data'\n",
    "            try:\n",
    "                exploitability_score = entry['impact']['baseMetricV3']['exploitabilityScore']\n",
    "            except KeyError:\n",
    "                exploitability_score = 'Missing_Data'\n",
    "            try:\n",
    "                impact_score = entry['impact']['baseMetricV3']['impactScore']\n",
    "            except KeyError:\n",
    "                impact_score = 'Missing_Data'\n",
    "            try:\n",
    "                cwe = entry['cve']['problemtype']['problemtype_data'][0]['description'][0]['value']\n",
    "            except IndexError:\n",
    "                cwe = 'Missing_Data'\n",
    "            try:\n",
    "                description = entry['cve']['description']['description_data'][0]['value']\n",
    "            except IndexError:\n",
    "                description = ''\n",
    "            new_row = { \n",
    "                'CVE': cve, \n",
    "                'Published': published_date,\n",
    "                'AttackVector': attack_vector,\n",
    "                'AttackComplexity': attack_complexity,\n",
    "                'PrivilegesRequired': privileges_required,\n",
    "                'UserInteraction': user_interaction,\n",
    "                'Scope': scope,\n",
    "                'ConfidentialityImpact': confidentiality_impact,\n",
    "                'IntegrityImpact': integrity_impact,\n",
    "                'AvailabilityImpact': availability_impact,\n",
    "                'BaseScore': base_score,\n",
    "                'BaseSeverity': base_severity,\n",
    "                'ExploitabilityScore': exploitability_score,\n",
    "                'ImpactScore': impact_score,\n",
    "                'CWE': cwe,\n",
    "                'Description': description,\n",
    "                'Assigner' : assigner\n",
    "            }\n",
    "            if not description.startswith('** REJECT **'): # disputed, rejected and other non issues start with '**'\n",
    "                row_accumulator.append(new_row)\n",
    "        nvd = pd.DataFrame(row_accumulator)\n",
    "    \n",
    "nvd['Published'] = pd.to_datetime(nvd['Published'])\n",
    "thisyear = ((nvd['Published'] > '2022-01-01') & (nvd['Published']  < '2022-12-31'))\n",
    "nvd = nvd.loc[thisyear]\n",
    "nvd = nvd.sort_values(by=['Published'])\n",
    "nvd = nvd.reset_index(drop=True)\n",
    "nvd['BaseScore'] = pd.to_numeric(nvd['BaseScore']);\n",
    "nvd['BaseScore'] = pd.to_numeric(nvd['BaseScore']);\n",
    "nvd['BaseScore'] = nvd['BaseScore'].replace(0, np.NaN);\n",
    "nvdcount = nvd['Published'].count()\n",
    "nvdunique = nvd['Published'].nunique()\n",
    "startdate = date(2022, 1, 1)\n",
    "enddate  = date.today()\n",
    "numberofdays = enddate - startdate \n",
    "per_day = nvdcount/numberofdays.days"
   ]
  },
  {
   "cell_type": "code",
   "execution_count": 3,
   "id": "e04459ff",
   "metadata": {
    "execution": {
     "iopub.execute_input": "2022-01-02T12:25:01.153053Z",
     "iopub.status.busy": "2022-01-02T12:25:01.149593Z",
     "iopub.status.idle": "2022-01-02T12:25:01.158539Z",
     "shell.execute_reply": "2022-01-02T12:25:01.158067Z"
    }
   },
   "outputs": [
    {
     "data": {
      "text/markdown": [
       "Total Number of CVEs: **44**<br />Average CVEs Per Day: **44.0**<br />Average CVSS Score: **nan**"
      ],
      "text/plain": [
       "<IPython.core.display.Markdown object>"
      ]
     },
     "execution_count": 3,
     "metadata": {},
     "output_type": "execute_result"
    }
   ],
   "source": [
    "Markdown(f\"Total Number of CVEs: **{nvd['CVE'].count()}**<br />Average CVEs Per Day: **{per_day}**<br />Average CVSS Score: **{nvd['BaseScore'].mean()}**\")"
   ]
  },
  {
   "cell_type": "markdown",
   "id": "5c69f867",
   "metadata": {},
   "source": []
  },
  {
   "cell_type": "code",
   "execution_count": 4,
   "id": "18a9c60b",
   "metadata": {
    "execution": {
     "iopub.execute_input": "2022-01-02T12:25:01.162403Z",
     "iopub.status.busy": "2022-01-02T12:25:01.161876Z",
     "iopub.status.idle": "2022-01-02T12:25:01.167705Z",
     "shell.execute_reply": "2022-01-02T12:25:01.166964Z"
    }
   },
   "outputs": [
    {
     "data": {
      "text/markdown": [
       "## CVE Graphs"
      ],
      "text/plain": [
       "<IPython.core.display.Markdown object>"
      ]
     },
     "execution_count": 4,
     "metadata": {},
     "output_type": "execute_result"
    }
   ],
   "source": [
    "Markdown(f\"## CVE Graphs\")"
   ]
  },
  {
   "cell_type": "code",
   "execution_count": 5,
   "id": "39c9867a",
   "metadata": {
    "execution": {
     "iopub.execute_input": "2022-01-02T12:25:01.180636Z",
     "iopub.status.busy": "2022-01-02T12:25:01.180029Z",
     "iopub.status.idle": "2022-01-02T12:25:01.183644Z",
     "shell.execute_reply": "2022-01-02T12:25:01.183168Z"
    }
   },
   "outputs": [],
   "source": [
    "Month_Graph = nvd['Published'].groupby(nvd.Published.dt.to_period(\"M\")).agg('count')\n",
    "Year_Graph = nvd['Published'].groupby(nvd.Published.dt.to_period(\"Y\")).agg('count')\n",
    "Week_Graph = nvd['Published'].groupby(nvd.Published.dt.to_period(\"W\")).agg('count')\n",
    "Day_Graph = nvd['Published'].groupby(nvd.Published.dt.to_period(\"D\")).agg('count')"
   ]
  },
  {
   "cell_type": "code",
   "execution_count": 6,
   "id": "83f72f6a",
   "metadata": {
    "execution": {
     "iopub.execute_input": "2022-01-02T12:25:01.187819Z",
     "iopub.status.busy": "2022-01-02T12:25:01.186882Z",
     "iopub.status.idle": "2022-01-02T12:25:01.192421Z",
     "shell.execute_reply": "2022-01-02T12:25:01.191962Z"
    }
   },
   "outputs": [
    {
     "data": {
      "text/markdown": [
       "### CVE Calendar"
      ],
      "text/plain": [
       "<IPython.core.display.Markdown object>"
      ]
     },
     "execution_count": 6,
     "metadata": {},
     "output_type": "execute_result"
    }
   ],
   "source": [
    "Markdown(f\"### CVE Calendar\")"
   ]
  },
  {
   "cell_type": "code",
   "execution_count": 7,
   "id": "fdaba3b0",
   "metadata": {
    "execution": {
     "iopub.execute_input": "2022-01-02T12:25:01.214502Z",
     "iopub.status.busy": "2022-01-02T12:25:01.205270Z",
     "iopub.status.idle": "2022-01-02T12:25:01.628014Z",
     "shell.execute_reply": "2022-01-02T12:25:01.627018Z"
    }
   },
   "outputs": [
    {
     "data": {
      "image/png": "[encoded data removed]",
      "text/plain": [
       "<Figure size 1800x216 with 2 Axes>"
      ]
     },
     "metadata": {
      "needs_background": "light"
     },
     "output_type": "display_data"
    }
   ],
   "source": [
    "dfs = nvd['Published'].apply(lambda x: pd.to_datetime(x, errors='coerce', format='%Y/%m/%d'))\n",
    "df = dfs.value_counts()\n",
    "df = df.to_frame()\n",
    "df.index = df.index.strftime('%m/%d/%Y')\n",
    "df.index = pd.to_datetime(df.index, format='%m/%d/%Y')\n",
    "calplot.calplot(df.T.squeeze(), cmap='jet', dropzero=True, edgecolor=\"Grey\", textcolor=\"White\", textformat='{:.0f}', textfiller='', suptitle='CVEs Per Day', figsize=(25,3));"
   ]
  },
  {
   "cell_type": "code",
   "execution_count": 8,
   "id": "2ce24285",
   "metadata": {
    "execution": {
     "iopub.execute_input": "2022-01-02T12:25:01.632556Z",
     "iopub.status.busy": "2022-01-02T12:25:01.631586Z",
     "iopub.status.idle": "2022-01-02T12:25:01.637115Z",
     "shell.execute_reply": "2022-01-02T12:25:01.636602Z"
    }
   },
   "outputs": [
    {
     "data": {
      "text/markdown": [
       "### CVE Per Month Graph"
      ],
      "text/plain": [
       "<IPython.core.display.Markdown object>"
      ]
     },
     "execution_count": 8,
     "metadata": {},
     "output_type": "execute_result"
    }
   ],
   "source": [
    "Markdown(f\"### CVE Per Month Graph\")"
   ]
  },
  {
   "cell_type": "code",
   "execution_count": 9,
   "id": "endless-cylinder",
   "metadata": {
    "execution": {
     "iopub.execute_input": "2022-01-02T12:25:01.641747Z",
     "iopub.status.busy": "2022-01-02T12:25:01.641216Z",
     "iopub.status.idle": "2022-01-02T12:25:01.839189Z",
     "shell.execute_reply": "2022-01-02T12:25:01.838694Z"
    }
   },
   "outputs": [
    {
     "data": {
      "image/png": "[encoded data removed]",
      "text/plain": [
       "<Figure size 1152x576 with 1 Axes>"
      ]
     },
     "metadata": {
      "needs_background": "light"
     },
     "output_type": "display_data"
    }
   ],
   "source": [
    "\n",
    "cg = Month_Graph.plot.area(colormap='jet', figsize=(16, 8), title='CVEs Per Month')\n",
    "plt.grid()\n",
    "cg.set_ylabel(\"New CVEs\");\n",
    "cg.set_xlabel(\"Date\");"
   ]
  },
  {
   "cell_type": "code",
   "execution_count": 10,
   "id": "befe79e1",
   "metadata": {
    "execution": {
     "iopub.execute_input": "2022-01-02T12:25:01.843551Z",
     "iopub.status.busy": "2022-01-02T12:25:01.841418Z",
     "iopub.status.idle": "2022-01-02T12:25:01.847616Z",
     "shell.execute_reply": "2022-01-02T12:25:01.847140Z"
    }
   },
   "outputs": [
    {
     "data": {
      "text/markdown": [
       "### CVE Per Week Graph"
      ],
      "text/plain": [
       "<IPython.core.display.Markdown object>"
      ]
     },
     "execution_count": 10,
     "metadata": {},
     "output_type": "execute_result"
    }
   ],
   "source": [
    "Markdown(f\"### CVE Per Week Graph\")"
   ]
  },
  {
   "cell_type": "code",
   "execution_count": 11,
   "id": "common-louis",
   "metadata": {
    "execution": {
     "iopub.execute_input": "2022-01-02T12:25:01.873964Z",
     "iopub.status.busy": "2022-01-02T12:25:01.854648Z",
     "iopub.status.idle": "2022-01-02T12:25:02.050743Z",
     "shell.execute_reply": "2022-01-02T12:25:02.051171Z"
    }
   },
   "outputs": [
    {
     "data": {
      "image/png": "[encoded data removed]",
      "text/plain": [
       "<Figure size 1152x576 with 1 Axes>"
      ]
     },
     "metadata": {
      "needs_background": "light"
     },
     "output_type": "display_data"
    }
   ],
   "source": [
    "\n",
    "cg = Week_Graph.plot.area(colormap='jet', figsize=(16, 8), title='CVEs Per Week')\n",
    "plt.grid()\n",
    "cg.set_ylabel(\"New CVEs\");\n",
    "cg.set_xlabel(\"Date\");"
   ]
  },
  {
   "cell_type": "code",
   "execution_count": 12,
   "id": "989be730",
   "metadata": {
    "execution": {
     "iopub.execute_input": "2022-01-02T12:25:02.054099Z",
     "iopub.status.busy": "2022-01-02T12:25:02.053555Z",
     "iopub.status.idle": "2022-01-02T12:25:02.058746Z",
     "shell.execute_reply": "2022-01-02T12:25:02.059156Z"
    }
   },
   "outputs": [
    {
     "data": {
      "text/markdown": [
       "### CVE Per Day Graph"
      ],
      "text/plain": [
       "<IPython.core.display.Markdown object>"
      ]
     },
     "execution_count": 12,
     "metadata": {},
     "output_type": "execute_result"
    }
   ],
   "source": [
    "Markdown(f\"### CVE Per Day Graph\")"
   ]
  },
  {
   "cell_type": "code",
   "execution_count": 13,
   "id": "smooth-stupid",
   "metadata": {
    "execution": {
     "iopub.execute_input": "2022-01-02T12:25:02.079365Z",
     "iopub.status.busy": "2022-01-02T12:25:02.077788Z",
     "iopub.status.idle": "2022-01-02T12:25:02.221343Z",
     "shell.execute_reply": "2022-01-02T12:25:02.220863Z"
    }
   },
   "outputs": [
    {
     "data": {
      "image/png": "[encoded data removed]",
      "text/plain": [
       "<Figure size 1152x576 with 1 Axes>"
      ]
     },
     "metadata": {
      "needs_background": "light"
     },
     "output_type": "display_data"
    }
   ],
   "source": [
    "\n",
    "cg = Day_Graph.plot.area(colormap='jet', figsize=(16, 8), title='CVEs Per Day')\n",
    "plt.grid()\n",
    "cg.set_ylabel(\"New CVEs\");\n",
    "cg.set_xlabel(\"Date\");"
   ]
  },
  {
   "cell_type": "code",
   "execution_count": 14,
   "id": "51593e0c",
   "metadata": {
    "execution": {
     "iopub.execute_input": "2022-01-02T12:25:02.226199Z",
     "iopub.status.busy": "2022-01-02T12:25:02.224592Z",
     "iopub.status.idle": "2022-01-02T12:25:02.228172Z",
     "shell.execute_reply": "2022-01-02T12:25:02.228605Z"
    }
   },
   "outputs": [
    {
     "data": {
      "text/markdown": [
       "## CVSS Data"
      ],
      "text/plain": [
       "<IPython.core.display.Markdown object>"
      ]
     },
     "execution_count": 14,
     "metadata": {},
     "output_type": "execute_result"
    }
   ],
   "source": [
    "Markdown(f\"## CVSS Data\")"
   ]
  },
  {
   "cell_type": "code",
   "execution_count": 15,
   "id": "0652f359",
   "metadata": {
    "execution": {
     "iopub.execute_input": "2022-01-02T12:25:02.248780Z",
     "iopub.status.busy": "2022-01-02T12:25:02.247257Z",
     "iopub.status.idle": "2022-01-02T12:25:02.399912Z",
     "shell.execute_reply": "2022-01-02T12:25:02.399009Z"
    }
   },
   "outputs": [
    {
     "data": {
      "image/png": "[encoded data removed]",
      "text/plain": [
       "<Figure size 1152x576 with 1 Axes>"
      ]
     },
     "metadata": {
      "needs_background": "light"
     },
     "output_type": "display_data"
    }
   ],
   "source": [
    "nvd['BaseScore'].plot(kind=\"hist\", colormap='jet', figsize=(16, 8), title='CVSS Scores');"
   ]
  },
  {
   "cell_type": "code",
   "execution_count": 16,
   "id": "f0210783",
   "metadata": {
    "execution": {
     "iopub.execute_input": "2022-01-02T12:25:02.405148Z",
     "iopub.status.busy": "2022-01-02T12:25:02.403460Z",
     "iopub.status.idle": "2022-01-02T12:25:02.409827Z",
     "shell.execute_reply": "2022-01-02T12:25:02.409129Z"
    }
   },
   "outputs": [
    {
     "data": {
      "text/markdown": [
       "## CNA Data"
      ],
      "text/plain": [
       "<IPython.core.display.Markdown object>"
      ]
     },
     "execution_count": 16,
     "metadata": {},
     "output_type": "execute_result"
    }
   ],
   "source": [
    "Markdown(f\"## CNA Data\")"
   ]
  },
  {
   "cell_type": "code",
   "execution_count": 17,
   "id": "96ff98c6",
   "metadata": {
    "execution": {
     "iopub.execute_input": "2022-01-02T12:25:02.434300Z",
     "iopub.status.busy": "2022-01-02T12:25:02.431620Z",
     "iopub.status.idle": "2022-01-02T12:25:02.556197Z",
     "shell.execute_reply": "2022-01-02T12:25:02.556641Z"
    }
   },
   "outputs": [
    {
     "data": {
      "image/png": "[encoded data removed]",
      "text/plain": [
       "<Figure size 720x720 with 1 Axes>"
      ]
     },
     "metadata": {
      "needs_background": "light"
     },
     "output_type": "display_data"
    }
   ],
   "source": [
    "Markdown(f\"### CNA Assigner Graph\")\n",
    "nvd_frequency = nvd['Assigner'].value_counts()\n",
    "nvd_frequency = nvd_frequency.reset_index()\n",
    "nvd_frequency.columns = ['Assigner', 'counts']\n",
    "nvd_frequency[nvd_frequency.counts > 100].head(50)\n",
    "nvd_frequency_no_mitre = nvd_frequency[~nvd_frequency.Assigner.str.contains('cve@mitre.org')]\n",
    "nvd_frequency_no_mitre = nvd_frequency_no_mitre[nvd_frequency_no_mitre.counts > 100].head(20)\n",
    "plt.figure(figsize=(10,10))\n",
    "plt.barh(\"Assigner\", \"counts\", data = nvd_frequency_no_mitre, color=\"#001d82\")\n",
    "plt.xlabel(\"CVEs\"); \n",
    "plt.ylabel(\"\") ;\n",
    "plt.title(\"Top 20 CNAs\");\n"
   ]
  },
  {
   "cell_type": "code",
   "execution_count": 18,
   "id": "aa3ea191",
   "metadata": {
    "execution": {
     "iopub.execute_input": "2022-01-02T12:25:02.561360Z",
     "iopub.status.busy": "2022-01-02T12:25:02.560829Z",
     "iopub.status.idle": "2022-01-02T12:25:02.565326Z",
     "shell.execute_reply": "2022-01-02T12:25:02.566104Z"
    }
   },
   "outputs": [
    {
     "data": {
      "text/markdown": [
       "## CWE Data"
      ],
      "text/plain": [
       "<IPython.core.display.Markdown object>"
      ]
     },
     "execution_count": 18,
     "metadata": {},
     "output_type": "execute_result"
    }
   ],
   "source": [
    "Markdown(f\"## CWE Data\")"
   ]
  },
  {
   "cell_type": "code",
   "execution_count": 19,
   "id": "6815f0a1",
   "metadata": {
    "execution": {
     "iopub.execute_input": "2022-01-02T12:25:02.588723Z",
     "iopub.status.busy": "2022-01-02T12:25:02.576693Z",
     "iopub.status.idle": "2022-01-02T12:25:02.716048Z",
     "shell.execute_reply": "2022-01-02T12:25:02.716518Z"
    }
   },
   "outputs": [
    {
     "data": {
      "image/png": "[encoded data removed]",
      "text/plain": [
       "<Figure size 720x720 with 1 Axes>"
      ]
     },
     "metadata": {
      "needs_background": "light"
     },
     "output_type": "display_data"
    }
   ],
   "source": [
    "nvd_cwe = nvd['CWE'].value_counts()\n",
    "nvd_cwe = nvd_cwe.reset_index()\n",
    "nvd_cwe.columns = ['CWE', 'counts']\n",
    "nvd_cwe = nvd_cwe[~nvd_cwe.CWE.str.contains('Missing_')]\n",
    "nvd_cwe = nvd_cwe[~nvd_cwe.CWE.str.contains('NVD')]\n",
    "nvd_cwe = nvd_cwe[nvd_cwe.counts > 100].head(25)\n",
    "plt.figure(figsize=(10,10));\n",
    "plt.barh(\"CWE\", \"counts\", data = nvd_cwe, color=\"#001d82\");\n",
    "plt.xlabel(\"Count\"); \n",
    "plt.ylabel(\"CWE\") ;\n",
    "plt.title(\"Most Common CWE in CVE Records\");\n"
   ]
  },
  {
   "cell_type": "code",
   "execution_count": 20,
   "id": "1cbec814-905a-4028-b72f-98da5081b10d",
   "metadata": {
    "execution": {
     "iopub.execute_input": "2022-01-02T12:25:02.719669Z",
     "iopub.status.busy": "2022-01-02T12:25:02.719147Z",
     "iopub.status.idle": "2022-01-02T12:25:02.725807Z",
     "shell.execute_reply": "2022-01-02T12:25:02.725351Z"
    }
   },
   "outputs": [
    {
     "data": {
      "text/markdown": [
       "## More CVE Data"
      ],
      "text/plain": [
       "<IPython.core.display.Markdown object>"
      ]
     },
     "execution_count": 20,
     "metadata": {},
     "output_type": "execute_result"
    }
   ],
   "source": [
    "Markdown(f\"## More CVE Data\")"
   ]
  },
  {
   "cell_type": "code",
   "execution_count": 21,
   "id": "5dbbc915",
   "metadata": {
    "execution": {
     "iopub.execute_input": "2022-01-02T12:25:02.730388Z",
     "iopub.status.busy": "2022-01-02T12:25:02.729873Z",
     "iopub.status.idle": "2022-01-02T12:25:02.734815Z",
     "shell.execute_reply": "2022-01-02T12:25:02.734355Z"
    }
   },
   "outputs": [
    {
     "data": {
      "text/markdown": [
       "### Top CNA Assigner"
      ],
      "text/plain": [
       "<IPython.core.display.Markdown object>"
      ]
     },
     "execution_count": 21,
     "metadata": {},
     "output_type": "execute_result"
    }
   ],
   "source": [
    "Markdown(f\"### Top CNA Assigner\")"
   ]
  },
  {
   "cell_type": "code",
   "execution_count": 22,
   "id": "04a26e54",
   "metadata": {
    "execution": {
     "iopub.execute_input": "2022-01-02T12:25:02.738678Z",
     "iopub.status.busy": "2022-01-02T12:25:02.738200Z",
     "iopub.status.idle": "2022-01-02T12:25:02.811170Z",
     "shell.execute_reply": "2022-01-02T12:25:02.811614Z"
    }
   },
   "outputs": [
    {
     "data": {
      "text/html": [
       "<style type=\"text/css\">\n",
       "</style>\n",
       "<table id=\"T_f75eb_\">\n",
       "  <thead>\n",
       "    <tr>\n",
       "      <th class=\"col_heading level0 col0\" >Assigner</th>\n",
       "      <th class=\"col_heading level0 col1\" >counts</th>\n",
       "    </tr>\n",
       "  </thead>\n",
       "  <tbody>\n",
       "  </tbody>\n",
       "</table>\n"
      ],
      "text/plain": [
       "<pandas.io.formats.style.Styler at 0x7f566fa91580>"
      ]
     },
     "execution_count": 22,
     "metadata": {},
     "output_type": "execute_result"
    }
   ],
   "source": [
    "nvd_frequency_no_mitre.style.hide_index()"
   ]
  },
  {
   "cell_type": "code",
   "execution_count": 23,
   "id": "aa164366-d0e6-4ca5-890b-95ea69f2801c",
   "metadata": {
    "execution": {
     "iopub.execute_input": "2022-01-02T12:25:02.816463Z",
     "iopub.status.busy": "2022-01-02T12:25:02.815941Z",
     "iopub.status.idle": "2022-01-02T12:25:02.821477Z",
     "shell.execute_reply": "2022-01-02T12:25:02.820565Z"
    }
   },
   "outputs": [
    {
     "data": {
      "text/markdown": [
       "### CVEs By Identifier"
      ],
      "text/plain": [
       "<IPython.core.display.Markdown object>"
      ]
     },
     "execution_count": 23,
     "metadata": {},
     "output_type": "execute_result"
    }
   ],
   "source": [
    "Markdown(f\"### CVEs By Identifier\")"
   ]
  },
  {
   "cell_type": "code",
   "execution_count": 24,
   "id": "661f28f1-9568-4e97-acb3-75e45e596f1f",
   "metadata": {
    "execution": {
     "iopub.execute_input": "2022-01-02T12:25:02.853703Z",
     "iopub.status.busy": "2022-01-02T12:25:02.834911Z",
     "iopub.status.idle": "2022-01-02T12:25:02.857968Z",
     "shell.execute_reply": "2022-01-02T12:25:02.857251Z"
    }
   },
   "outputs": [
    {
     "name": "stdout",
     "output_type": "stream",
     "text": [
      "CVE-1999-\t0\n",
      "CVE-2000-\t0\n",
      "CVE-2001-\t0\n",
      "CVE-2002-\t0\n",
      "CVE-2003-\t0\n",
      "CVE-2004-\t0\n",
      "CVE-2005-\t0\n",
      "CVE-2006-\t0\n",
      "CVE-2007-\t0\n",
      "CVE-2008-\t0\n",
      "CVE-2009-\t0\n",
      "CVE-2010-\t0\n",
      "CVE-2011-\t0\n",
      "CVE-2012-\t0\n",
      "CVE-2013-\t0\n",
      "CVE-2014-\t0\n",
      "CVE-2015-\t0\n",
      "CVE-2016-\t0\n",
      "CVE-2017-\t0\n",
      "CVE-2018-\t0\n",
      "CVE-2019-\t0\n",
      "CVE-2020-\t0\n",
      "CVE-2021-\t43\n",
      "CVE-2022-\t1\n"
     ]
    }
   ],
   "source": [
    "\n",
    "print(\"CVE-1999-\\t%s\" % len(nvd[nvd['CVE'].str.contains('CVE-1999-')]))\n",
    "print(\"CVE-2000-\\t%s\" % len(nvd[nvd['CVE'].str.contains('CVE-2000-')]))\n",
    "print(\"CVE-2001-\\t%s\" % len(nvd[nvd['CVE'].str.contains('CVE-2001-')]))\n",
    "print(\"CVE-2002-\\t%s\" % len(nvd[nvd['CVE'].str.contains('CVE-2002-')]))\n",
    "print(\"CVE-2003-\\t%s\" % len(nvd[nvd['CVE'].str.contains('CVE-2003-')]))\n",
    "print(\"CVE-2004-\\t%s\" % len(nvd[nvd['CVE'].str.contains('CVE-2004-')]))\n",
    "print(\"CVE-2005-\\t%s\" % len(nvd[nvd['CVE'].str.contains('CVE-2005-')]))\n",
    "print(\"CVE-2006-\\t%s\" % len(nvd[nvd['CVE'].str.contains('CVE-2006-')]))\n",
    "print(\"CVE-2007-\\t%s\" % len(nvd[nvd['CVE'].str.contains('CVE-2007-')]))\n",
    "print(\"CVE-2008-\\t%s\" % len(nvd[nvd['CVE'].str.contains('CVE-2008-')]))\n",
    "print(\"CVE-2009-\\t%s\" % len(nvd[nvd['CVE'].str.contains('CVE-2009-')]))\n",
    "print(\"CVE-2010-\\t%s\" % len(nvd[nvd['CVE'].str.contains('CVE-2010-')]))\n",
    "print(\"CVE-2011-\\t%s\" % len(nvd[nvd['CVE'].str.contains('CVE-2011-')]))\n",
    "print(\"CVE-2012-\\t%s\" % len(nvd[nvd['CVE'].str.contains('CVE-2012-')]))\n",
    "print(\"CVE-2013-\\t%s\" % len(nvd[nvd['CVE'].str.contains('CVE-2013-')]))\n",
    "print(\"CVE-2014-\\t%s\" % len(nvd[nvd['CVE'].str.contains('CVE-2014-')]))\n",
    "print(\"CVE-2015-\\t%s\" % len(nvd[nvd['CVE'].str.contains('CVE-2015-')]))\n",
    "print(\"CVE-2016-\\t%s\" % len(nvd[nvd['CVE'].str.contains('CVE-2016-')]))\n",
    "print(\"CVE-2017-\\t%s\" % len(nvd[nvd['CVE'].str.contains('CVE-2017-')]))\n",
    "print(\"CVE-2018-\\t%s\" % len(nvd[nvd['CVE'].str.contains('CVE-2018-')]))\n",
    "print(\"CVE-2019-\\t%s\" % len(nvd[nvd['CVE'].str.contains('CVE-2019-')]))\n",
    "print(\"CVE-2020-\\t%s\" % len(nvd[nvd['CVE'].str.contains('CVE-2020-')]))\n",
    "print(\"CVE-2021-\\t%s\" % len(nvd[nvd['CVE'].str.contains('CVE-2021-')]))\n",
    "print(\"CVE-2022-\\t%s\" % len(nvd[nvd['CVE'].str.contains('CVE-2022-')]))"
   ]
  },
  {
   "cell_type": "code",
   "execution_count": 25,
   "id": "1cc30ff0",
   "metadata": {
    "execution": {
     "iopub.execute_input": "2022-01-02T12:25:02.862535Z",
     "iopub.status.busy": "2022-01-02T12:25:02.862015Z",
     "iopub.status.idle": "2022-01-02T12:25:02.867449Z",
     "shell.execute_reply": "2022-01-02T12:25:02.866510Z"
    }
   },
   "outputs": [
    {
     "data": {
      "text/markdown": [
       "### First 5 CVEs"
      ],
      "text/plain": [
       "<IPython.core.display.Markdown object>"
      ]
     },
     "execution_count": 25,
     "metadata": {},
     "output_type": "execute_result"
    }
   ],
   "source": [
    "Markdown(f\"### First 5 CVEs\")"
   ]
  },
  {
   "cell_type": "code",
   "execution_count": 26,
   "id": "robust-sustainability",
   "metadata": {
    "execution": {
     "iopub.execute_input": "2022-01-02T12:25:02.873709Z",
     "iopub.status.busy": "2022-01-02T12:25:02.869590Z",
     "iopub.status.idle": "2022-01-02T12:25:02.878230Z",
     "shell.execute_reply": "2022-01-02T12:25:02.877762Z"
    }
   },
   "outputs": [
    {
     "data": {
      "text/html": [
       "<style type=\"text/css\">\n",
       "</style>\n",
       "<table id=\"T_6417b_\">\n",
       "  <thead>\n",
       "    <tr>\n",
       "      <th class=\"col_heading level0 col0\" >CVE</th>\n",
       "      <th class=\"col_heading level0 col1\" >Description</th>\n",
       "    </tr>\n",
       "  </thead>\n",
       "  <tbody>\n",
       "    <tr>\n",
       "      <td id=\"T_6417b_row0_col0\" class=\"data row0 col0\" >CVE-2021-45952</td>\n",
       "      <td id=\"T_6417b_row0_col1\" class=\"data row0 col1\" >Dnsmasq 2.86 has a heap-based buffer overflow in dhcp_reply (called from dhcp_packet and FuzzDhcp).</td>\n",
       "    </tr>\n",
       "    <tr>\n",
       "      <td id=\"T_6417b_row1_col0\" class=\"data row1 col0\" >CVE-2021-45951</td>\n",
       "      <td id=\"T_6417b_row1_col1\" class=\"data row1 col1\" >Dnsmasq 2.86 has a heap-based buffer overflow in check_bad_address (called from check_for_bogus_wildcard and FuzzCheckForBogusWildcard).</td>\n",
       "    </tr>\n",
       "    <tr>\n",
       "      <td id=\"T_6417b_row2_col0\" class=\"data row2 col0\" >CVE-2021-45944</td>\n",
       "      <td id=\"T_6417b_row2_col1\" class=\"data row2 col1\" >Ghostscript GhostPDL 9.50 through 9.53.3 has a use-after-free in sampled_data_sample (called from sampled_data_continue and interp).</td>\n",
       "    </tr>\n",
       "    <tr>\n",
       "      <td id=\"T_6417b_row3_col0\" class=\"data row3 col0\" >CVE-2021-45945</td>\n",
       "      <td id=\"T_6417b_row3_col1\" class=\"data row3 col1\" >uWebSockets 19.0.0 through 20.8.0 has an out-of-bounds write in std::__1::pair<unsigned int, void*> uWS::HttpParser::fenceAndConsumePostPadded<0 (called from uWS::HttpParser::consumePostPadded and std::__1::__function::__func<LLVMFuzzerTestOneInput::$_0, std::__1::allocator<LL).</td>\n",
       "    </tr>\n",
       "    <tr>\n",
       "      <td id=\"T_6417b_row4_col0\" class=\"data row4 col0\" >CVE-2021-45946</td>\n",
       "      <td id=\"T_6417b_row4_col1\" class=\"data row4 col1\" >Wasm3 0.5.0 has an out-of-bounds write in CompileBlock (called from Compile_LoopOrBlock and CompileBlockStatements).</td>\n",
       "    </tr>\n",
       "  </tbody>\n",
       "</table>\n"
      ],
      "text/plain": [
       "<pandas.io.formats.style.Styler at 0x7f566149beb0>"
      ]
     },
     "execution_count": 26,
     "metadata": {},
     "output_type": "execute_result"
    }
   ],
   "source": [
    "nvd[[\"CVE\", \"Description\"]].head(5).style.hide_index()"
   ]
  },
  {
   "cell_type": "code",
   "execution_count": 27,
   "id": "b7f86a25",
   "metadata": {
    "execution": {
     "iopub.execute_input": "2022-01-02T12:25:02.882603Z",
     "iopub.status.busy": "2022-01-02T12:25:02.882101Z",
     "iopub.status.idle": "2022-01-02T12:25:02.886651Z",
     "shell.execute_reply": "2022-01-02T12:25:02.887090Z"
    }
   },
   "outputs": [
    {
     "data": {
      "text/markdown": [
       "### Last 5 CVEs"
      ],
      "text/plain": [
       "<IPython.core.display.Markdown object>"
      ]
     },
     "execution_count": 27,
     "metadata": {},
     "output_type": "execute_result"
    }
   ],
   "source": [
    "Markdown(f\"### Last 5 CVEs\")"
   ]
  },
  {
   "cell_type": "code",
   "execution_count": 28,
   "id": "ceramic-gather",
   "metadata": {
    "execution": {
     "iopub.execute_input": "2022-01-02T12:25:02.893937Z",
     "iopub.status.busy": "2022-01-02T12:25:02.893075Z",
     "iopub.status.idle": "2022-01-02T12:25:02.898566Z",
     "shell.execute_reply": "2022-01-02T12:25:02.897878Z"
    }
   },
   "outputs": [
    {
     "data": {
      "text/html": [
       "<style type=\"text/css\">\n",
       "</style>\n",
       "<table id=\"T_ec603_\">\n",
       "  <thead>\n",
       "    <tr>\n",
       "      <th class=\"col_heading level0 col0\" >CVE</th>\n",
       "      <th class=\"col_heading level0 col1\" >Description</th>\n",
       "    </tr>\n",
       "  </thead>\n",
       "  <tbody>\n",
       "    <tr>\n",
       "      <td id=\"T_ec603_row0_col0\" class=\"data row0 col0\" >CVE-2021-41819</td>\n",
       "      <td id=\"T_ec603_row0_col1\" class=\"data row0 col1\" >CGI::Cookie.parse in Ruby through 2.6.8 mishandles security prefixes in cookie names. This also affects the CGI gem through 0.3.0 for Ruby.</td>\n",
       "    </tr>\n",
       "    <tr>\n",
       "      <td id=\"T_ec603_row1_col0\" class=\"data row1 col0\" >CVE-2021-45960</td>\n",
       "      <td id=\"T_ec603_row1_col1\" class=\"data row1 col1\" >In Expat (aka libexpat) before 2.4.3, a left shift by 29 (or more) places in the storeAtts function in xmlparse.c can lead to realloc misbehavior (e.g., allocating too few bytes, or only freeing memory).</td>\n",
       "    </tr>\n",
       "    <tr>\n",
       "      <td id=\"T_ec603_row2_col0\" class=\"data row2 col0\" >CVE-2021-45972</td>\n",
       "      <td id=\"T_ec603_row2_col1\" class=\"data row2 col1\" >The giftrans function in giftrans 1.12.2 contains a stack-based buffer overflow because a value inside the input file determines the amount of data to write. This allows an attacker to overwrite up to 250 bytes outside of the allocated buffer with arbitrary data.</td>\n",
       "    </tr>\n",
       "    <tr>\n",
       "      <td id=\"T_ec603_row3_col0\" class=\"data row3 col0\" >CVE-2021-44896</td>\n",
       "      <td id=\"T_ec603_row3_col1\" class=\"data row3 col1\" >DMP Roadmap before 3.0.4 allows XSS.</td>\n",
       "    </tr>\n",
       "    <tr>\n",
       "      <td id=\"T_ec603_row4_col0\" class=\"data row4 col0\" >CVE-2022-22293</td>\n",
       "      <td id=\"T_ec603_row4_col1\" class=\"data row4 col1\" >admin/limits.php in Dolibarr 7.0.2 allows HTML injection, as demonstrated by the MAIN_MAX_DECIMALS_TOT parameter.</td>\n",
       "    </tr>\n",
       "  </tbody>\n",
       "</table>\n"
      ],
      "text/plain": [
       "<pandas.io.formats.style.Styler at 0x7f5668fed460>"
      ]
     },
     "execution_count": 28,
     "metadata": {},
     "output_type": "execute_result"
    }
   ],
   "source": [
    "\n",
    "nvd[[\"CVE\", \"Description\"]].tail(5).style.hide_index()"
   ]
  },
  {
   "cell_type": "code",
   "execution_count": 29,
   "id": "20ee3a71",
   "metadata": {
    "execution": {
     "iopub.execute_input": "2022-01-02T12:25:02.903075Z",
     "iopub.status.busy": "2022-01-02T12:25:02.902546Z",
     "iopub.status.idle": "2022-01-02T12:25:02.907702Z",
     "shell.execute_reply": "2022-01-02T12:25:02.907017Z"
    }
   },
   "outputs": [
    {
     "data": {
      "text/markdown": [
       "This report is updated automatically every day, last generated on: **2022-01-02 12:25:02.900969**"
      ],
      "text/plain": [
       "<IPython.core.display.Markdown object>"
      ]
     },
     "execution_count": 29,
     "metadata": {},
     "output_type": "execute_result"
    }
   ],
   "source": [
    "Markdown(f\"This report is updated automatically every day, last generated on: **{datetime.datetime.now()}**\")"
   ]
  }
 ],
 "metadata": {
  "kernelspec": {
   "display_name": "Python 3 (ipykernel)",
   "language": "python",
   "name": "python3"
  },
  "language_info": {
   "codemirror_mode": {
    "name": "ipython",
    "version": 3
   },
   "file_extension": ".py",
   "mimetype": "text/x-python",
   "name": "python",
   "nbconvert_exporter": "python",
   "pygments_lexer": "ipython3",
   "version": "3.9.9"
  }
 },
 "nbformat": 4,
 "nbformat_minor": 5
}
