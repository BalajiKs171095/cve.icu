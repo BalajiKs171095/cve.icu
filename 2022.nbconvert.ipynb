{
 "cells": [
  {
   "cell_type": "markdown",
   "id": "serious-pressing",
   "metadata": {},
   "source": [
    "# 2022 CVE Data Review"
   ]
  },
  {
   "cell_type": "markdown",
   "id": "persistent-circus",
   "metadata": {},
   "source": [
    "This notebook will pull all [JSON Data](https://nvd.nist.gov/vuln/data-feeds#JSON_FEED) from the NVD and performs some basic data analysis of CVEd data. "
   ]
  },
  {
   "cell_type": "markdown",
   "id": "shaped-supervision",
   "metadata": {},
   "source": [
    "## Getting Started"
   ]
  },
  {
   "cell_type": "markdown",
   "id": "impossible-british",
   "metadata": {
    "tags": []
   },
   "source": [
    "### Import Python Libraries"
   ]
  },
  {
   "cell_type": "code",
   "execution_count": 1,
   "id": "diverse-prison",
   "metadata": {
    "execution": {
     "iopub.execute_input": "2021-12-29T18:31:11.250029Z",
     "iopub.status.busy": "2021-12-29T18:31:11.249212Z",
     "iopub.status.idle": "2021-12-29T18:31:12.772095Z",
     "shell.execute_reply": "2021-12-29T18:31:12.771436Z"
    },
    "tags": []
   },
   "outputs": [],
   "source": [
    "\n",
    "from IPython.core.magic import register_cell_magic\n",
    "from IPython.display import Markdown\n",
    "import datetime\n",
    "import glob\n",
    "import json\n",
    "import logging\n",
    "import matplotlib.pyplot as plt\n",
    "import numpy as np\n",
    "import pandas as pd\n",
    "import warnings\n",
    "\n",
    "@register_cell_magic\n",
    "def markdown(line, cell):\n",
    "    return Markdown(cell.format(**globals()))\n",
    "\n",
    "\n",
    "logging.getLogger('matplotlib.font_manager').disabled = True\n",
    "warnings.filterwarnings(\"ignore\")\n"
   ]
  },
  {
   "cell_type": "markdown",
   "id": "continent-disaster",
   "metadata": {},
   "source": [
    "# CVE Data"
   ]
  },
  {
   "cell_type": "markdown",
   "id": "fleet-phenomenon",
   "metadata": {
    "tags": []
   },
   "source": [
    "### Build Base DataFrame"
   ]
  },
  {
   "cell_type": "markdown",
   "id": "indian-hacker",
   "metadata": {},
   "source": [
    "This code builds a Panda dataframe from the JSON files we downloaded, removing all CVE's marked rejected."
   ]
  },
  {
   "cell_type": "code",
   "execution_count": 2,
   "id": "organized-ambassador",
   "metadata": {
    "execution": {
     "iopub.execute_input": "2021-12-29T18:31:12.789753Z",
     "iopub.status.busy": "2021-12-29T18:31:12.785681Z",
     "iopub.status.idle": "2021-12-29T18:31:53.519398Z",
     "shell.execute_reply": "2021-12-29T18:31:53.518818Z"
    },
    "tags": []
   },
   "outputs": [
    {
     "name": "stdout",
     "output_type": "stream",
     "text": [
      "CVEs from NVD in 2021: 1873\n"
     ]
    }
   ],
   "source": [
    "row_accumulator = []\n",
    "for filename in glob.glob('nvdcve-1.1-*.json'):\n",
    "    with open(filename, 'r', encoding='utf-8') as f:\n",
    "        nvd_data = json.load(f)\n",
    "        for entry in nvd_data['CVE_Items']:\n",
    "            cve = entry['cve']['CVE_data_meta']['ID']\n",
    "            try:\n",
    "                assigner = entry['cve']['CVE_data_meta']['ASSIGNER']\n",
    "            except KeyError:\n",
    "                published_date = 'Missing_Data_JG'\n",
    "            try:\n",
    "                published_date = entry['publishedDate']\n",
    "            except KeyError:\n",
    "                published_date = 'Missing_Data_JG'\n",
    "            try:\n",
    "                attack_vector = entry['impact']['baseMetricV3']['cvssV3']['attackVector']\n",
    "            except KeyError:\n",
    "                attack_vector = 'Missing_Data_JG'\n",
    "            try:\n",
    "                attack_complexity = entry['impact']['baseMetricV3']['cvssV3']['attackComplexity']\n",
    "            except KeyError:\n",
    "                attack_complexity = 'Missing_Data_JG'\n",
    "            try:\n",
    "                privileges_required = entry['impact']['baseMetricV3']['cvssV3']['privilegesRequired']\n",
    "            except KeyError:\n",
    "                privileges_required = 'Missing_Data_JG'\n",
    "            try:\n",
    "                user_interaction = entry['impact']['baseMetricV3']['cvssV3']['userInteraction']\n",
    "            except KeyError:\n",
    "                user_interaction = 'Missing_Data_JG'\n",
    "            try:\n",
    "                scope = entry['impact']['baseMetricV3']['cvssV3']['scope']\n",
    "            except KeyError:\n",
    "                scope = 'Missing_Data_JG'\n",
    "            try:\n",
    "                confidentiality_impact = entry['impact']['baseMetricV3']['cvssV3']['confidentialityImpact']\n",
    "            except KeyError:\n",
    "                confidentiality_impact = 'Missing_Data_JG'\n",
    "            try:\n",
    "                integrity_impact = entry['impact']['baseMetricV3']['cvssV3']['integrityImpact']\n",
    "            except KeyError:\n",
    "                integrity_impact = 'Missing_Data_JG'\n",
    "            try:\n",
    "                availability_impact = entry['impact']['baseMetricV3']['cvssV3']['availabilityImpact']\n",
    "            except KeyError:\n",
    "                availability_impact = 'Missing_Data_JG'\n",
    "            try:\n",
    "                base_score = entry['impact']['baseMetricV3']['cvssV3']['baseScore']\n",
    "            except KeyError:\n",
    "                base_score = '0.0'\n",
    "            try:\n",
    "                base_severity = entry['impact']['baseMetricV3']['cvssV3']['baseSeverity']\n",
    "            except KeyError:\n",
    "                base_severity = 'Missing_Data_JG'\n",
    "            try:\n",
    "                exploitability_score = entry['impact']['baseMetricV3']['exploitabilityScore']\n",
    "            except KeyError:\n",
    "                exploitability_score = 'Missing_Data_JG'\n",
    "            try:\n",
    "                impact_score = entry['impact']['baseMetricV3']['impactScore']\n",
    "            except KeyError:\n",
    "                impact_score = 'Missing_Data_JG'\n",
    "            try:\n",
    "                cwe = entry['cve']['problemtype']['problemtype_data'][0]['description'][0]['value']\n",
    "            except IndexError:\n",
    "                cwe = 'Missing_Data_JG'\n",
    "            try:\n",
    "                description = entry['cve']['description']['description_data'][0]['value']\n",
    "            except IndexError:\n",
    "                description = ''\n",
    "            new_row = { \n",
    "                'CVE': cve, \n",
    "                'Published': published_date,\n",
    "                'AttackVector': attack_vector,\n",
    "                'AttackComplexity': attack_complexity,\n",
    "                'PrivilegesRequired': privileges_required,\n",
    "                'UserInteraction': user_interaction,\n",
    "                'Scope': scope,\n",
    "                'ConfidentialityImpact': confidentiality_impact,\n",
    "                'IntegrityImpact': integrity_impact,\n",
    "                'AvailabilityImpact': availability_impact,\n",
    "                'BaseScore': base_score,\n",
    "                'BaseSeverity': base_severity,\n",
    "                'ExploitabilityScore': exploitability_score,\n",
    "                'ImpactScore': impact_score,\n",
    "                'CWE': cwe,\n",
    "                'Description': description,\n",
    "                'Assigner' : assigner\n",
    "            }\n",
    "            if not description.startswith('** REJECT **'): # disputed, rejected and other non issues start with '**'\n",
    "                row_accumulator.append(new_row)\n",
    "        nvd = pd.DataFrame(row_accumulator)\n",
    "    \n",
    "\n",
    "nvd['Published'] = pd.to_datetime(nvd['Published'])\n",
    "thisyear = ((nvd['Published'] > '2021-12-01') & (nvd['Published']  < '2022-12-31'))\n",
    "nvd = nvd.loc[thisyear]\n",
    "nvd = nvd.sort_values(by=['Published'])\n",
    "nvd = nvd.reset_index(drop=True)\n",
    "print ('CVEs from NVD in 2021:', nvd['CVE'].count())"
   ]
  },
  {
   "cell_type": "code",
   "execution_count": 3,
   "id": "gross-pressure",
   "metadata": {
    "execution": {
     "iopub.execute_input": "2021-12-29T18:31:53.527989Z",
     "iopub.status.busy": "2021-12-29T18:31:53.525604Z",
     "iopub.status.idle": "2021-12-29T18:31:53.541423Z",
     "shell.execute_reply": "2021-12-29T18:31:53.540665Z"
    }
   },
   "outputs": [
    {
     "data": {
      "text/plain": [
       "Published\n",
       "2021    1873\n",
       "Freq: A-DEC, Name: Published, dtype: int64"
      ]
     },
     "execution_count": 3,
     "metadata": {},
     "output_type": "execute_result"
    }
   ],
   "source": [
    "Month_Graph = nvd['Published'].groupby(nvd.Published.dt.to_period(\"M\")).agg('count')\n",
    "Year_Graph = nvd['Published'].groupby(nvd.Published.dt.to_period(\"Y\")).agg('count')\n",
    "Week_Graph = nvd['Published'].groupby(nvd.Published.dt.to_period(\"W\")).agg('count')\n",
    "Day_Graph = nvd['Published'].groupby(nvd.Published.dt.to_period(\"D\")).agg('count')\n",
    "Dayofweek_Graph = nvd['Published'].groupby(nvd.Published.dt.to_period(\"H\")).agg('count')\n",
    "Year_Graph"
   ]
  },
  {
   "cell_type": "code",
   "execution_count": 4,
   "id": "prompt-rally",
   "metadata": {
    "execution": {
     "iopub.execute_input": "2021-12-29T18:31:53.572048Z",
     "iopub.status.busy": "2021-12-29T18:31:53.556811Z",
     "iopub.status.idle": "2021-12-29T18:31:53.602130Z",
     "shell.execute_reply": "2021-12-29T18:31:53.601383Z"
    }
   },
   "outputs": [
    {
     "name": "stdout",
     "output_type": "stream",
     "text": [
      "Published CVEs in 2021\n",
      "CVE-1999-\t0\n",
      "CVE-2000-\t0\n",
      "CVE-2001-\t0\n",
      "CVE-2002-\t0\n",
      "CVE-2003-\t0\n",
      "CVE-2004-\t0\n",
      "CVE-2005-\t0\n",
      "CVE-2006-\t0\n",
      "CVE-2007-\t0\n",
      "CVE-2008-\t0\n",
      "CVE-2009-\t0\n",
      "CVE-2010-\t0\n",
      "CVE-2011-\t0\n",
      "CVE-2012-\t1\n",
      "CVE-2013-\t0\n",
      "CVE-2014-\t0\n",
      "CVE-2015-\t2\n",
      "CVE-2016-\t0\n",
      "CVE-2017-\t11\n",
      "CVE-2018-\t13\n",
      "CVE-2019-\t7\n",
      "CVE-2020-\t71\n",
      "CVE-2021-\t1768\n"
     ]
    }
   ],
   "source": [
    "print(\"Published CVEs in 2021\")\n",
    "print(\"CVE-1999-\\t%s\" % len(nvd[nvd['CVE'].str.contains('CVE-1999-')]))\n",
    "print(\"CVE-2000-\\t%s\" % len(nvd[nvd['CVE'].str.contains('CVE-2000-')]))\n",
    "print(\"CVE-2001-\\t%s\" % len(nvd[nvd['CVE'].str.contains('CVE-2001-')]))\n",
    "print(\"CVE-2002-\\t%s\" % len(nvd[nvd['CVE'].str.contains('CVE-2002-')]))\n",
    "print(\"CVE-2003-\\t%s\" % len(nvd[nvd['CVE'].str.contains('CVE-2003-')]))\n",
    "print(\"CVE-2004-\\t%s\" % len(nvd[nvd['CVE'].str.contains('CVE-2004-')]))\n",
    "print(\"CVE-2005-\\t%s\" % len(nvd[nvd['CVE'].str.contains('CVE-2005-')]))\n",
    "print(\"CVE-2006-\\t%s\" % len(nvd[nvd['CVE'].str.contains('CVE-2006-')]))\n",
    "print(\"CVE-2007-\\t%s\" % len(nvd[nvd['CVE'].str.contains('CVE-2007-')]))\n",
    "print(\"CVE-2008-\\t%s\" % len(nvd[nvd['CVE'].str.contains('CVE-2008-')]))\n",
    "print(\"CVE-2009-\\t%s\" % len(nvd[nvd['CVE'].str.contains('CVE-2009-')]))\n",
    "print(\"CVE-2010-\\t%s\" % len(nvd[nvd['CVE'].str.contains('CVE-2010-')]))\n",
    "print(\"CVE-2011-\\t%s\" % len(nvd[nvd['CVE'].str.contains('CVE-2011-')]))\n",
    "print(\"CVE-2012-\\t%s\" % len(nvd[nvd['CVE'].str.contains('CVE-2012-')]))\n",
    "print(\"CVE-2013-\\t%s\" % len(nvd[nvd['CVE'].str.contains('CVE-2013-')]))\n",
    "print(\"CVE-2014-\\t%s\" % len(nvd[nvd['CVE'].str.contains('CVE-2014-')]))\n",
    "print(\"CVE-2015-\\t%s\" % len(nvd[nvd['CVE'].str.contains('CVE-2015-')]))\n",
    "print(\"CVE-2016-\\t%s\" % len(nvd[nvd['CVE'].str.contains('CVE-2016-')]))\n",
    "print(\"CVE-2017-\\t%s\" % len(nvd[nvd['CVE'].str.contains('CVE-2017-')]))\n",
    "print(\"CVE-2018-\\t%s\" % len(nvd[nvd['CVE'].str.contains('CVE-2018-')]))\n",
    "print(\"CVE-2019-\\t%s\" % len(nvd[nvd['CVE'].str.contains('CVE-2019-')]))\n",
    "print(\"CVE-2020-\\t%s\" % len(nvd[nvd['CVE'].str.contains('CVE-2020-')]))\n",
    "print(\"CVE-2021-\\t%s\" % len(nvd[nvd['CVE'].str.contains('CVE-2021-')]))"
   ]
  },
  {
   "cell_type": "code",
   "execution_count": 5,
   "id": "endless-cylinder",
   "metadata": {
    "execution": {
     "iopub.execute_input": "2021-12-29T18:31:53.607700Z",
     "iopub.status.busy": "2021-12-29T18:31:53.606589Z",
     "iopub.status.idle": "2021-12-29T18:31:54.404284Z",
     "shell.execute_reply": "2021-12-29T18:31:54.403477Z"
    }
   },
   "outputs": [
    {
     "data": {
      "image/png": "[encoded data removed]",
      "text/plain": [
       "<Figure size 1152x576 with 1 Axes>"
      ]
     },
     "metadata": {
      "needs_background": "light"
     },
     "output_type": "display_data"
    }
   ],
   "source": [
    "cg = Month_Graph.plot.area(colormap='jet', figsize=(16, 8), title='CVEs Per Month')\n",
    "plt.grid()\n",
    "cg.set_ylabel(\"New CVEs\")\n",
    "cg.set_xlabel(\"Date\")\n",
    "plt.savefig('CVEs_Month.jpg', dpi=300, bbox_inches='tight')"
   ]
  },
  {
   "cell_type": "code",
   "execution_count": 6,
   "id": "common-louis",
   "metadata": {
    "execution": {
     "iopub.execute_input": "2021-12-29T18:31:54.424405Z",
     "iopub.status.busy": "2021-12-29T18:31:54.421564Z",
     "iopub.status.idle": "2021-12-29T18:31:55.126008Z",
     "shell.execute_reply": "2021-12-29T18:31:55.125517Z"
    }
   },
   "outputs": [
    {
     "data": {
      "image/png": "[encoded data removed]",
      "text/plain": [
       "<Figure size 1152x576 with 1 Axes>"
      ]
     },
     "metadata": {
      "needs_background": "light"
     },
     "output_type": "display_data"
    }
   ],
   "source": [
    "cg = Week_Graph.plot.area(colormap='jet', figsize=(16, 8), title='CVEs Per Week')\n",
    "plt.grid()\n",
    "cg.set_ylabel(\"New CVEs\")\n",
    "cg.set_xlabel(\"Date\")\n",
    "plt.savefig('CVEs_Week.jpg', dpi=300, bbox_inches='tight')"
   ]
  },
  {
   "cell_type": "code",
   "execution_count": 7,
   "id": "smooth-stupid",
   "metadata": {
    "execution": {
     "iopub.execute_input": "2021-12-29T18:31:55.144347Z",
     "iopub.status.busy": "2021-12-29T18:31:55.134984Z",
     "iopub.status.idle": "2021-12-29T18:31:56.034668Z",
     "shell.execute_reply": "2021-12-29T18:31:56.035389Z"
    }
   },
   "outputs": [
    {
     "data": {
      "image/png": "[encoded data removed]",
      "text/plain": [
       "<Figure size 1152x576 with 1 Axes>"
      ]
     },
     "metadata": {
      "needs_background": "light"
     },
     "output_type": "display_data"
    }
   ],
   "source": [
    "cg = Day_Graph.plot.area(colormap='jet', figsize=(16, 8), title='CVEs Per Day')\n",
    "plt.grid()\n",
    "cg.set_ylabel(\"New CVEs\")\n",
    "cg.set_xlabel(\"Date\")\n",
    "plt.savefig('CVEs_Day.jpg', dpi=300, bbox_inches='tight')"
   ]
  },
  {
   "cell_type": "code",
   "execution_count": 8,
   "id": "crucial-leonard",
   "metadata": {
    "execution": {
     "iopub.execute_input": "2021-12-29T18:31:56.046504Z",
     "iopub.status.busy": "2021-12-29T18:31:56.042320Z",
     "iopub.status.idle": "2021-12-29T18:31:56.053599Z",
     "shell.execute_reply": "2021-12-29T18:31:56.054055Z"
    }
   },
   "outputs": [
    {
     "data": {
      "text/html": [
       "<div>\n",
       "<style scoped>\n",
       "    .dataframe tbody tr th:only-of-type {\n",
       "        vertical-align: middle;\n",
       "    }\n",
       "\n",
       "    .dataframe tbody tr th {\n",
       "        vertical-align: top;\n",
       "    }\n",
       "\n",
       "    .dataframe thead th {\n",
       "        text-align: right;\n",
       "    }\n",
       "</style>\n",
       "<table border=\"1\" class=\"dataframe\">\n",
       "  <thead>\n",
       "    <tr style=\"text-align: right;\">\n",
       "      <th></th>\n",
       "      <th>Assigner</th>\n",
       "      <th>counts</th>\n",
       "    </tr>\n",
       "  </thead>\n",
       "  <tbody>\n",
       "    <tr>\n",
       "      <th>1</th>\n",
       "      <td>security@android.com</td>\n",
       "      <td>148</td>\n",
       "    </tr>\n",
       "  </tbody>\n",
       "</table>\n",
       "</div>"
      ],
      "text/plain": [
       "               Assigner  counts\n",
       "1  security@android.com     148"
      ]
     },
     "execution_count": 8,
     "metadata": {},
     "output_type": "execute_result"
    }
   ],
   "source": [
    "nvd_frequency = nvd['Assigner'].value_counts()\n",
    "nvd_frequency = nvd_frequency.reset_index()\n",
    "nvd_frequency.columns = ['Assigner', 'counts']\n",
    "nvd_frequency[nvd_frequency.counts > 100].head(50)\n",
    "nvd_frequency_no_mitre = nvd_frequency[~nvd_frequency.Assigner.str.contains('cve@mitre.org')]\n",
    "nvd_frequency_no_mitre = nvd_frequency_no_mitre[nvd_frequency_no_mitre.counts > 100].head(20)\n",
    "nvd_frequency_no_mitre"
   ]
  },
  {
   "cell_type": "code",
   "execution_count": 9,
   "id": "controlling-baking",
   "metadata": {
    "execution": {
     "iopub.execute_input": "2021-12-29T18:31:56.093425Z",
     "iopub.status.busy": "2021-12-29T18:31:56.070640Z",
     "iopub.status.idle": "2021-12-29T18:31:56.600207Z",
     "shell.execute_reply": "2021-12-29T18:31:56.599335Z"
    }
   },
   "outputs": [
    {
     "data": {
      "image/png": "[encoded data removed]",
      "text/plain": [
       "<Figure size 720x720 with 1 Axes>"
      ]
     },
     "metadata": {
      "needs_background": "light"
     },
     "output_type": "display_data"
    }
   ],
   "source": [
    "plt.figure(figsize=(10,10))\n",
    "plt.barh(\"Assigner\", \"counts\", data = nvd_frequency_no_mitre)\n",
    "plt.xlabel(\"CVEs\") \n",
    "plt.ylabel(\"\") \n",
    "plt.title(\"Top 20 CNAs\")\n",
    "plt.savefig('2021topassinger.jpg', dpi=300, bbox_inches='tight')"
   ]
  },
  {
   "cell_type": "code",
   "execution_count": 10,
   "id": "robust-sustainability",
   "metadata": {
    "execution": {
     "iopub.execute_input": "2021-12-29T18:31:56.621481Z",
     "iopub.status.busy": "2021-12-29T18:31:56.620617Z",
     "iopub.status.idle": "2021-12-29T18:31:56.626549Z",
     "shell.execute_reply": "2021-12-29T18:31:56.625757Z"
    }
   },
   "outputs": [
    {
     "data": {
      "text/html": [
       "<div>\n",
       "<style scoped>\n",
       "    .dataframe tbody tr th:only-of-type {\n",
       "        vertical-align: middle;\n",
       "    }\n",
       "\n",
       "    .dataframe tbody tr th {\n",
       "        vertical-align: top;\n",
       "    }\n",
       "\n",
       "    .dataframe thead th {\n",
       "        text-align: right;\n",
       "    }\n",
       "</style>\n",
       "<table border=\"1\" class=\"dataframe\">\n",
       "  <thead>\n",
       "    <tr style=\"text-align: right;\">\n",
       "      <th></th>\n",
       "      <th>CVE</th>\n",
       "      <th>Published</th>\n",
       "      <th>AttackVector</th>\n",
       "      <th>AttackComplexity</th>\n",
       "      <th>PrivilegesRequired</th>\n",
       "      <th>UserInteraction</th>\n",
       "      <th>Scope</th>\n",
       "      <th>ConfidentialityImpact</th>\n",
       "      <th>IntegrityImpact</th>\n",
       "      <th>AvailabilityImpact</th>\n",
       "      <th>BaseScore</th>\n",
       "      <th>BaseSeverity</th>\n",
       "      <th>ExploitabilityScore</th>\n",
       "      <th>ImpactScore</th>\n",
       "      <th>CWE</th>\n",
       "      <th>Description</th>\n",
       "      <th>Assigner</th>\n",
       "    </tr>\n",
       "  </thead>\n",
       "  <tbody>\n",
       "    <tr>\n",
       "      <th>0</th>\n",
       "      <td>CVE-2021-40809</td>\n",
       "      <td>2021-12-01 01:15:00+00:00</td>\n",
       "      <td>NETWORK</td>\n",
       "      <td>LOW</td>\n",
       "      <td>LOW</td>\n",
       "      <td>NONE</td>\n",
       "      <td>UNCHANGED</td>\n",
       "      <td>HIGH</td>\n",
       "      <td>HIGH</td>\n",
       "      <td>HIGH</td>\n",
       "      <td>8.8</td>\n",
       "      <td>HIGH</td>\n",
       "      <td>2.8</td>\n",
       "      <td>5.9</td>\n",
       "      <td>CWE-918</td>\n",
       "      <td>An issue was discovered in Jamf Pro before 10....</td>\n",
       "      <td>cve@mitre.org</td>\n",
       "    </tr>\n",
       "    <tr>\n",
       "      <th>1</th>\n",
       "      <td>CVE-2021-43358</td>\n",
       "      <td>2021-12-01 02:15:00+00:00</td>\n",
       "      <td>NETWORK</td>\n",
       "      <td>LOW</td>\n",
       "      <td>NONE</td>\n",
       "      <td>NONE</td>\n",
       "      <td>UNCHANGED</td>\n",
       "      <td>HIGH</td>\n",
       "      <td>NONE</td>\n",
       "      <td>NONE</td>\n",
       "      <td>7.5</td>\n",
       "      <td>HIGH</td>\n",
       "      <td>3.9</td>\n",
       "      <td>3.6</td>\n",
       "      <td>CWE-22</td>\n",
       "      <td>Sunnet eHRD has inadequate filtering for speci...</td>\n",
       "      <td>cve@cert.org.tw</td>\n",
       "    </tr>\n",
       "    <tr>\n",
       "      <th>2</th>\n",
       "      <td>CVE-2021-43360</td>\n",
       "      <td>2021-12-01 02:15:00+00:00</td>\n",
       "      <td>NETWORK</td>\n",
       "      <td>LOW</td>\n",
       "      <td>LOW</td>\n",
       "      <td>NONE</td>\n",
       "      <td>UNCHANGED</td>\n",
       "      <td>HIGH</td>\n",
       "      <td>HIGH</td>\n",
       "      <td>HIGH</td>\n",
       "      <td>8.8</td>\n",
       "      <td>HIGH</td>\n",
       "      <td>2.8</td>\n",
       "      <td>5.9</td>\n",
       "      <td>CWE-502</td>\n",
       "      <td>Sunnet eHRD e-mail delivery task schedule’s se...</td>\n",
       "      <td>cve@cert.org.tw</td>\n",
       "    </tr>\n",
       "    <tr>\n",
       "      <th>3</th>\n",
       "      <td>CVE-2021-43359</td>\n",
       "      <td>2021-12-01 02:15:00+00:00</td>\n",
       "      <td>NETWORK</td>\n",
       "      <td>LOW</td>\n",
       "      <td>LOW</td>\n",
       "      <td>NONE</td>\n",
       "      <td>UNCHANGED</td>\n",
       "      <td>HIGH</td>\n",
       "      <td>HIGH</td>\n",
       "      <td>HIGH</td>\n",
       "      <td>8.8</td>\n",
       "      <td>HIGH</td>\n",
       "      <td>2.8</td>\n",
       "      <td>5.9</td>\n",
       "      <td>CWE-732</td>\n",
       "      <td>Sunnet eHRD has broken access control vulnerab...</td>\n",
       "      <td>cve@cert.org.tw</td>\n",
       "    </tr>\n",
       "    <tr>\n",
       "      <th>4</th>\n",
       "      <td>CVE-2021-20864</td>\n",
       "      <td>2021-12-01 03:15:00+00:00</td>\n",
       "      <td>ADJACENT_NETWORK</td>\n",
       "      <td>LOW</td>\n",
       "      <td>NONE</td>\n",
       "      <td>NONE</td>\n",
       "      <td>UNCHANGED</td>\n",
       "      <td>HIGH</td>\n",
       "      <td>HIGH</td>\n",
       "      <td>HIGH</td>\n",
       "      <td>8.8</td>\n",
       "      <td>HIGH</td>\n",
       "      <td>2.8</td>\n",
       "      <td>5.9</td>\n",
       "      <td>CWE-863</td>\n",
       "      <td>Improper access control vulnerability in ELECO...</td>\n",
       "      <td>vultures@jpcert.or.jp</td>\n",
       "    </tr>\n",
       "  </tbody>\n",
       "</table>\n",
       "</div>"
      ],
      "text/plain": [
       "              CVE                 Published      AttackVector  \\\n",
       "0  CVE-2021-40809 2021-12-01 01:15:00+00:00           NETWORK   \n",
       "1  CVE-2021-43358 2021-12-01 02:15:00+00:00           NETWORK   \n",
       "2  CVE-2021-43360 2021-12-01 02:15:00+00:00           NETWORK   \n",
       "3  CVE-2021-43359 2021-12-01 02:15:00+00:00           NETWORK   \n",
       "4  CVE-2021-20864 2021-12-01 03:15:00+00:00  ADJACENT_NETWORK   \n",
       "\n",
       "  AttackComplexity PrivilegesRequired UserInteraction      Scope  \\\n",
       "0              LOW                LOW            NONE  UNCHANGED   \n",
       "1              LOW               NONE            NONE  UNCHANGED   \n",
       "2              LOW                LOW            NONE  UNCHANGED   \n",
       "3              LOW                LOW            NONE  UNCHANGED   \n",
       "4              LOW               NONE            NONE  UNCHANGED   \n",
       "\n",
       "  ConfidentialityImpact IntegrityImpact AvailabilityImpact BaseScore  \\\n",
       "0                  HIGH            HIGH               HIGH       8.8   \n",
       "1                  HIGH            NONE               NONE       7.5   \n",
       "2                  HIGH            HIGH               HIGH       8.8   \n",
       "3                  HIGH            HIGH               HIGH       8.8   \n",
       "4                  HIGH            HIGH               HIGH       8.8   \n",
       "\n",
       "  BaseSeverity ExploitabilityScore ImpactScore      CWE  \\\n",
       "0         HIGH                 2.8         5.9  CWE-918   \n",
       "1         HIGH                 3.9         3.6   CWE-22   \n",
       "2         HIGH                 2.8         5.9  CWE-502   \n",
       "3         HIGH                 2.8         5.9  CWE-732   \n",
       "4         HIGH                 2.8         5.9  CWE-863   \n",
       "\n",
       "                                         Description               Assigner  \n",
       "0  An issue was discovered in Jamf Pro before 10....          cve@mitre.org  \n",
       "1  Sunnet eHRD has inadequate filtering for speci...        cve@cert.org.tw  \n",
       "2  Sunnet eHRD e-mail delivery task schedule’s se...        cve@cert.org.tw  \n",
       "3  Sunnet eHRD has broken access control vulnerab...        cve@cert.org.tw  \n",
       "4  Improper access control vulnerability in ELECO...  vultures@jpcert.or.jp  "
      ]
     },
     "execution_count": 10,
     "metadata": {},
     "output_type": "execute_result"
    }
   ],
   "source": [
    "nvd.head(5)"
   ]
  },
  {
   "cell_type": "code",
   "execution_count": 11,
   "id": "ceramic-gather",
   "metadata": {
    "execution": {
     "iopub.execute_input": "2021-12-29T18:31:56.645726Z",
     "iopub.status.busy": "2021-12-29T18:31:56.645140Z",
     "iopub.status.idle": "2021-12-29T18:31:56.650689Z",
     "shell.execute_reply": "2021-12-29T18:31:56.651178Z"
    }
   },
   "outputs": [
    {
     "data": {
      "text/html": [
       "<div>\n",
       "<style scoped>\n",
       "    .dataframe tbody tr th:only-of-type {\n",
       "        vertical-align: middle;\n",
       "    }\n",
       "\n",
       "    .dataframe tbody tr th {\n",
       "        vertical-align: top;\n",
       "    }\n",
       "\n",
       "    .dataframe thead th {\n",
       "        text-align: right;\n",
       "    }\n",
       "</style>\n",
       "<table border=\"1\" class=\"dataframe\">\n",
       "  <thead>\n",
       "    <tr style=\"text-align: right;\">\n",
       "      <th></th>\n",
       "      <th>CVE</th>\n",
       "      <th>Published</th>\n",
       "      <th>AttackVector</th>\n",
       "      <th>AttackComplexity</th>\n",
       "      <th>PrivilegesRequired</th>\n",
       "      <th>UserInteraction</th>\n",
       "      <th>Scope</th>\n",
       "      <th>ConfidentialityImpact</th>\n",
       "      <th>IntegrityImpact</th>\n",
       "      <th>AvailabilityImpact</th>\n",
       "      <th>BaseScore</th>\n",
       "      <th>BaseSeverity</th>\n",
       "      <th>ExploitabilityScore</th>\n",
       "      <th>ImpactScore</th>\n",
       "      <th>CWE</th>\n",
       "      <th>Description</th>\n",
       "      <th>Assigner</th>\n",
       "    </tr>\n",
       "  </thead>\n",
       "  <tbody>\n",
       "    <tr>\n",
       "      <th>1868</th>\n",
       "      <td>CVE-2020-22057</td>\n",
       "      <td>2021-12-28 20:15:00+00:00</td>\n",
       "      <td>Missing_Data_JG</td>\n",
       "      <td>Missing_Data_JG</td>\n",
       "      <td>Missing_Data_JG</td>\n",
       "      <td>Missing_Data_JG</td>\n",
       "      <td>Missing_Data_JG</td>\n",
       "      <td>Missing_Data_JG</td>\n",
       "      <td>Missing_Data_JG</td>\n",
       "      <td>Missing_Data_JG</td>\n",
       "      <td>0.0</td>\n",
       "      <td>Missing_Data_JG</td>\n",
       "      <td>Missing_Data_JG</td>\n",
       "      <td>Missing_Data_JG</td>\n",
       "      <td>Missing_Data_JG</td>\n",
       "      <td>The WinRin0x64.sys and WinRing0.sys low-level ...</td>\n",
       "      <td>cve@mitre.org</td>\n",
       "    </tr>\n",
       "    <tr>\n",
       "      <th>1869</th>\n",
       "      <td>CVE-2020-7878</td>\n",
       "      <td>2021-12-28 20:15:00+00:00</td>\n",
       "      <td>Missing_Data_JG</td>\n",
       "      <td>Missing_Data_JG</td>\n",
       "      <td>Missing_Data_JG</td>\n",
       "      <td>Missing_Data_JG</td>\n",
       "      <td>Missing_Data_JG</td>\n",
       "      <td>Missing_Data_JG</td>\n",
       "      <td>Missing_Data_JG</td>\n",
       "      <td>Missing_Data_JG</td>\n",
       "      <td>0.0</td>\n",
       "      <td>Missing_Data_JG</td>\n",
       "      <td>Missing_Data_JG</td>\n",
       "      <td>Missing_Data_JG</td>\n",
       "      <td>Missing_Data_JG</td>\n",
       "      <td>An arbitrary file download and execution vulne...</td>\n",
       "      <td>vuln@krcert.or.kr</td>\n",
       "    </tr>\n",
       "    <tr>\n",
       "      <th>1870</th>\n",
       "      <td>CVE-2020-22061</td>\n",
       "      <td>2021-12-28 20:15:00+00:00</td>\n",
       "      <td>Missing_Data_JG</td>\n",
       "      <td>Missing_Data_JG</td>\n",
       "      <td>Missing_Data_JG</td>\n",
       "      <td>Missing_Data_JG</td>\n",
       "      <td>Missing_Data_JG</td>\n",
       "      <td>Missing_Data_JG</td>\n",
       "      <td>Missing_Data_JG</td>\n",
       "      <td>Missing_Data_JG</td>\n",
       "      <td>0.0</td>\n",
       "      <td>Missing_Data_JG</td>\n",
       "      <td>Missing_Data_JG</td>\n",
       "      <td>Missing_Data_JG</td>\n",
       "      <td>Missing_Data_JG</td>\n",
       "      <td>SUPERAntispyware v8.0.0.1050 was discovered to...</td>\n",
       "      <td>cve@mitre.org</td>\n",
       "    </tr>\n",
       "    <tr>\n",
       "      <th>1871</th>\n",
       "      <td>CVE-2020-7883</td>\n",
       "      <td>2021-12-28 20:15:00+00:00</td>\n",
       "      <td>Missing_Data_JG</td>\n",
       "      <td>Missing_Data_JG</td>\n",
       "      <td>Missing_Data_JG</td>\n",
       "      <td>Missing_Data_JG</td>\n",
       "      <td>Missing_Data_JG</td>\n",
       "      <td>Missing_Data_JG</td>\n",
       "      <td>Missing_Data_JG</td>\n",
       "      <td>Missing_Data_JG</td>\n",
       "      <td>0.0</td>\n",
       "      <td>Missing_Data_JG</td>\n",
       "      <td>Missing_Data_JG</td>\n",
       "      <td>Missing_Data_JG</td>\n",
       "      <td>Missing_Data_JG</td>\n",
       "      <td>Printchaser v2.2021.804.1 and earlier versions...</td>\n",
       "      <td>vuln@krcert.or.kr</td>\n",
       "    </tr>\n",
       "    <tr>\n",
       "      <th>1872</th>\n",
       "      <td>CVE-2021-44832</td>\n",
       "      <td>2021-12-28 20:15:00+00:00</td>\n",
       "      <td>Missing_Data_JG</td>\n",
       "      <td>Missing_Data_JG</td>\n",
       "      <td>Missing_Data_JG</td>\n",
       "      <td>Missing_Data_JG</td>\n",
       "      <td>Missing_Data_JG</td>\n",
       "      <td>Missing_Data_JG</td>\n",
       "      <td>Missing_Data_JG</td>\n",
       "      <td>Missing_Data_JG</td>\n",
       "      <td>0.0</td>\n",
       "      <td>Missing_Data_JG</td>\n",
       "      <td>Missing_Data_JG</td>\n",
       "      <td>Missing_Data_JG</td>\n",
       "      <td>Missing_Data_JG</td>\n",
       "      <td>Apache Log4j2 versions 2.0-beta7 through 2.17....</td>\n",
       "      <td>security@apache.org</td>\n",
       "    </tr>\n",
       "  </tbody>\n",
       "</table>\n",
       "</div>"
      ],
      "text/plain": [
       "                 CVE                 Published     AttackVector  \\\n",
       "1868  CVE-2020-22057 2021-12-28 20:15:00+00:00  Missing_Data_JG   \n",
       "1869   CVE-2020-7878 2021-12-28 20:15:00+00:00  Missing_Data_JG   \n",
       "1870  CVE-2020-22061 2021-12-28 20:15:00+00:00  Missing_Data_JG   \n",
       "1871   CVE-2020-7883 2021-12-28 20:15:00+00:00  Missing_Data_JG   \n",
       "1872  CVE-2021-44832 2021-12-28 20:15:00+00:00  Missing_Data_JG   \n",
       "\n",
       "     AttackComplexity PrivilegesRequired  UserInteraction            Scope  \\\n",
       "1868  Missing_Data_JG    Missing_Data_JG  Missing_Data_JG  Missing_Data_JG   \n",
       "1869  Missing_Data_JG    Missing_Data_JG  Missing_Data_JG  Missing_Data_JG   \n",
       "1870  Missing_Data_JG    Missing_Data_JG  Missing_Data_JG  Missing_Data_JG   \n",
       "1871  Missing_Data_JG    Missing_Data_JG  Missing_Data_JG  Missing_Data_JG   \n",
       "1872  Missing_Data_JG    Missing_Data_JG  Missing_Data_JG  Missing_Data_JG   \n",
       "\n",
       "     ConfidentialityImpact  IntegrityImpact AvailabilityImpact BaseScore  \\\n",
       "1868       Missing_Data_JG  Missing_Data_JG    Missing_Data_JG       0.0   \n",
       "1869       Missing_Data_JG  Missing_Data_JG    Missing_Data_JG       0.0   \n",
       "1870       Missing_Data_JG  Missing_Data_JG    Missing_Data_JG       0.0   \n",
       "1871       Missing_Data_JG  Missing_Data_JG    Missing_Data_JG       0.0   \n",
       "1872       Missing_Data_JG  Missing_Data_JG    Missing_Data_JG       0.0   \n",
       "\n",
       "         BaseSeverity ExploitabilityScore      ImpactScore              CWE  \\\n",
       "1868  Missing_Data_JG     Missing_Data_JG  Missing_Data_JG  Missing_Data_JG   \n",
       "1869  Missing_Data_JG     Missing_Data_JG  Missing_Data_JG  Missing_Data_JG   \n",
       "1870  Missing_Data_JG     Missing_Data_JG  Missing_Data_JG  Missing_Data_JG   \n",
       "1871  Missing_Data_JG     Missing_Data_JG  Missing_Data_JG  Missing_Data_JG   \n",
       "1872  Missing_Data_JG     Missing_Data_JG  Missing_Data_JG  Missing_Data_JG   \n",
       "\n",
       "                                            Description             Assigner  \n",
       "1868  The WinRin0x64.sys and WinRing0.sys low-level ...        cve@mitre.org  \n",
       "1869  An arbitrary file download and execution vulne...    vuln@krcert.or.kr  \n",
       "1870  SUPERAntispyware v8.0.0.1050 was discovered to...        cve@mitre.org  \n",
       "1871  Printchaser v2.2021.804.1 and earlier versions...    vuln@krcert.or.kr  \n",
       "1872  Apache Log4j2 versions 2.0-beta7 through 2.17....  security@apache.org  "
      ]
     },
     "execution_count": 11,
     "metadata": {},
     "output_type": "execute_result"
    }
   ],
   "source": [
    "nvd.tail(5)"
   ]
  },
  {
   "cell_type": "code",
   "execution_count": 12,
   "id": "civilian-advice",
   "metadata": {
    "execution": {
     "iopub.execute_input": "2021-12-29T18:31:56.656570Z",
     "iopub.status.busy": "2021-12-29T18:31:56.655937Z",
     "iopub.status.idle": "2021-12-29T18:31:56.661011Z",
     "shell.execute_reply": "2021-12-29T18:31:56.661494Z"
    }
   },
   "outputs": [
    {
     "data": {
      "text/markdown": [
       "This report is updated automatically every day, last generated on: **2021-12-29**"
      ],
      "text/plain": [
       "<IPython.core.display.Markdown object>"
      ]
     },
     "execution_count": 12,
     "metadata": {},
     "output_type": "execute_result"
    }
   ],
   "source": [
    "Markdown(f\"This report is updated automatically every day, last generated on: **{datetime.date.today()}**\")"
   ]
  }
 ],
 "metadata": {
  "kernelspec": {
   "display_name": "Python 3",
   "language": "python",
   "name": "python3"
  },
  "language_info": {
   "codemirror_mode": {
    "name": "ipython",
    "version": 3
   },
   "file_extension": ".py",
   "mimetype": "text/x-python",
   "name": "python",
   "nbconvert_exporter": "python",
   "pygments_lexer": "ipython3",
   "version": "3.9.9"
  }
 },
 "nbformat": 4,
 "nbformat_minor": 5
}
